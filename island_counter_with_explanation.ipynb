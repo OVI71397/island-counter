{
 "cells": [
  {
   "cell_type": "markdown",
   "id": "ffb57940",
   "metadata": {},
   "source": [
    "### Task"
   ]
  },
  {
   "cell_type": "markdown",
   "id": "3209de9b",
   "metadata": {},
   "source": [
    "You have a matrix MxN that represents a map. There are 2 possible states on the map:\n",
    "1 - islands, 0 - the ocean. Your task is to calculate the number of islands in the most\n",
    "effective way."
   ]
  },
  {
   "cell_type": "markdown",
   "id": "52f6a998",
   "metadata": {},
   "source": [
    "### Solution"
   ]
  },
  {
   "cell_type": "markdown",
   "id": "5458d309",
   "metadata": {},
   "source": [
    "There are some traversal algorithms that are designed to solve this problem among which are Depth First Search (DFS) and Breadth First Search (BFS). I will use DFS which explores in depth each branch before going to the next one. The idea of the solution is simple. The given matrix is iterated over elements until the first 1-island is found, then the island count is incremented, and the element is marked as visited (assigned to 0). Then, the elements in the surroundings (on the left, right, up, and down) are inspected. The validity check ensures that the element position is within the matrix rows and columns range. The process repeats until all the elements of the matrix are marked as visited (assigned to 0)"
   ]
  },
  {
   "cell_type": "code",
   "execution_count": 1,
   "id": "53ee7d9e",
   "metadata": {},
   "outputs": [],
   "source": [
    "# Main function that iterates over the matrix elements (look for 1s) and counts islands\n",
    "def count_islends(matrix = None):\n",
    "    # If matrix is not passed return 0\n",
    "    if not matrix:\n",
    "        return 0\n",
    "    # Get matrix measurements \n",
    "    rows = len(matrix)\n",
    "    cols = len(matrix[0])\n",
    "    \n",
    "    # Initiate the island count to 0\n",
    "    islands = 0\n",
    "    \n",
    "    # Iterate over the elements to find land\n",
    "    for r in range(rows):\n",
    "        for c in range(cols):\n",
    "            if is_valid(matrix, r, c, rows, cols):\n",
    "                # Once 1 is found increment island count\n",
    "                islands += 1\n",
    "                # Explore elements in the surrounding\n",
    "                look_around_elements(matrix, r, c, rows, cols)\n",
    "    return islands\n",
    "\n",
    "# Function that checks the validity of element, looks for elements within rows and cols range and equal to 1\n",
    "def is_valid(matrix, r, c, rows, cols):\n",
    "    return (0 <= r < rows and \n",
    "            0 <= c < cols and \n",
    "            matrix[r][c] == '1')\n",
    "\n",
    "# Function that explores islands\n",
    "def look_around_elements(matrix, r, c, rows, cols):\n",
    "    \n",
    "    stack = [(r, c)]\n",
    "    \n",
    "    while stack:\n",
    "        # Get current element\n",
    "        current_r, current_c = stack.pop()\n",
    "        elem = (current_r, current_c)\n",
    "        # Check validity of current element\n",
    "        if not is_valid(matrix, current_r, current_c, rows, cols):\n",
    "            continue\n",
    "        # Assign the current element to 0 to mark it as visited    \n",
    "        matrix[current_r][current_c] = '0'\n",
    "        # Set directions to move from current element\n",
    "        directions = [\n",
    "            (1, 0),   # down\n",
    "            (-1, 0),  # up\n",
    "            (0, 1),   # right\n",
    "            (0, -1)   # left\n",
    "        ]\n",
    "        # Get elements in the surrounding\n",
    "        for dx, dy in directions:\n",
    "            next_r = current_r + dx\n",
    "            next_c = current_c + dy\n",
    "            stack.append((next_r, next_c))"
   ]
  },
  {
   "cell_type": "markdown",
   "id": "5019336a",
   "metadata": {},
   "source": [
    "### Examples"
   ]
  },
  {
   "cell_type": "code",
   "execution_count": 3,
   "id": "4d79799b",
   "metadata": {},
   "outputs": [
    {
     "data": {
      "text/plain": [
       "5"
      ]
     },
     "execution_count": 3,
     "metadata": {},
     "output_type": "execute_result"
    }
   ],
   "source": [
    "m1 = [\n",
    "    ['1', '1', '0', '1'],\n",
    "    ['1', '1', '0', '0'],\n",
    "    ['0', '0', '1', '0'],\n",
    "    ['1', '0', '0', '1']\n",
    "]\n",
    "count_islends(m1)"
   ]
  },
  {
   "cell_type": "code",
   "execution_count": 4,
   "id": "341061de",
   "metadata": {},
   "outputs": [
    {
     "data": {
      "text/plain": [
       "4"
      ]
     },
     "execution_count": 4,
     "metadata": {},
     "output_type": "execute_result"
    }
   ],
   "source": [
    "m2 = [\n",
    "    ['0', '1', '0', '1', '0'],\n",
    "    ['1', '1', '0', '0', '1'],\n",
    "    ['0', '0', '1', '0', '0'],\n",
    "    ['0', '0', '1', '1', '1']\n",
    "]\n",
    "count_islends(m2)"
   ]
  }
 ],
 "metadata": {
  "kernelspec": {
   "display_name": "ETL_pipes",
   "language": "python",
   "name": "etl_pipes"
  },
  "language_info": {
   "codemirror_mode": {
    "name": "ipython",
    "version": 3
   },
   "file_extension": ".py",
   "mimetype": "text/x-python",
   "name": "python",
   "nbconvert_exporter": "python",
   "pygments_lexer": "ipython3",
   "version": "3.11.4"
  }
 },
 "nbformat": 4,
 "nbformat_minor": 5
}
